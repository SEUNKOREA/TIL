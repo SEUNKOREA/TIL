{
 "cells": [
  {
   "cell_type": "markdown",
   "id": "0809556a-7179-48c8-b550-d31af53f8ebf",
   "metadata": {},
   "source": [
    "https://techblog-history-younghunjo1.tistory.com/486"
   ]
  },
  {
   "cell_type": "markdown",
   "id": "b1b40409-2362-44fb-b26d-232dec20b078",
   "metadata": {},
   "source": [
    "# 1. GRU"
   ]
  },
  {
   "cell_type": "code",
   "execution_count": 2,
   "id": "3536039e-0e0f-4241-a311-b5d8c7c6dfe1",
   "metadata": {},
   "outputs": [],
   "source": [
    "class GRU:\n",
    "    def __init__(self, Wx, Wh):\n",
    "        \"\"\"\n",
    "        Parameters\n",
    "        --------------------\n",
    "        Wx: 입력 x에 대한 가중치 매개변수(3개 분의 가중치가 담겨 있음)\n",
    "        Wh: 은닉 상태 h에 대한 가중치 매개변수(3개 분의 가중치가 담겨 있음)\n",
    "        \"\"\"\n",
    "        \n",
    "        self.Wx, self.Wh = Wx, Wh\n",
    "        self.dWx, self.dWh = None, None\n",
    "        self.cache = None\n",
    "\n",
    "    def forward(self, x, h_prev):\n",
    "        H, H3 = self.Wh.shape\n",
    "        \n",
    "        Wxz, Wxr, Wx = self.Wx[:, :H], self.Wx[:, H:2*H], self.Wx[:, 2*H:]\n",
    "        Whz, Whr, Wz = self.Wh[:, :H], self.Wh[:, H:2*H], self.Wh[:, 2*H:]\n",
    "\n",
    "        z = sigmoid(np.dot(x, Wxz) + np.dot(h_prev, Whz))\n",
    "        r = sigmoid(np.dot(x, Wxr) + np.dot(h_prev, Whr))\n",
    "        h_hat = np.tanh(np.dot(x, Wx) + np.dot(h_prev, Wh))\n",
    "        h_next = (1-z) * h_prev + z * h_hat\n",
    "\n",
    "        self.cache = (x, h_prev, z, r, h_hat)\n",
    "\n",
    "        return h_next\n",
    "\n",
    "    def backward():\n",
    "        H, H3 = self.Wh.shape\n",
    "\n",
    "        Wxz, Wxr, Wx = self.Wx[:, :H], self.Wx[:, H:2*H], self.Wx[:, 2*H:]\n",
    "        Whz, Whr, Wz = self.Wh[:, :H], self.Wh[:, H:2*H], self.Wh[:, 2*H:]\n",
    "\n",
    "        x, h_prev, z, r, h_hat = self.cache\n",
    "\n",
    "        dh_hat = dh_next * z\n",
    "        dh_prev = dh_next * (1-z)\n",
    "\n",
    "        # tanh\n",
    "        dt = dh_hat * (1 - h_hat ** 2)\n",
    "        dWh = np.dot((r * h_prev).T, dt)\n",
    "        dhr = np.dot(dt, Wh.T)\n",
    "        dWx = np.dot(x.T, dt)\n",
    "        dx = np.dot(dt, Wx.T)\n",
    "        dh_prev += r * dhr\n",
    "\n",
    "        # update gate(z)\n",
    "        dz = dh_next * h_hat - dh_next * h_prev\n",
    "        dt = dz * z * (1-z)\n",
    "        dWhz = np.dot(h_prev.T, dt)\n",
    "        dh_prev += np.dot(dt, Whz.T)\n",
    "        dWxz = np.dot(x.T, dt)\n",
    "        dx += np.dot(dt, Wxz.T)\n",
    "\n",
    "        # rest gate(r)\n",
    "        dr = dhr * h_prev\n",
    "        dt = dr * r * (1-r)\n",
    "        dWhr = np.dot(h_prev.T, dt)\n",
    "        dh_prev += np.dot(dt, Whr.T)\n",
    "        dWxr = np.dot(x.T, dt)\n",
    "        dx += np.dot(dt, Wxr.T)\n",
    "\n",
    "        self.dWx = np.hstack((dWxz, dWxr, dWx))\n",
    "        self.dWh = np.hstack((dWhz, dWhr, dWh))\n",
    "\n",
    "        return dx, dh_prev"
   ]
  }
 ],
 "metadata": {
  "kernelspec": {
   "display_name": "skt_hackathon",
   "language": "python",
   "name": "skt_hackathon"
  },
  "language_info": {
   "codemirror_mode": {
    "name": "ipython",
    "version": 3
   },
   "file_extension": ".py",
   "mimetype": "text/x-python",
   "name": "python",
   "nbconvert_exporter": "python",
   "pygments_lexer": "ipython3",
   "version": "3.9.17"
  }
 },
 "nbformat": 4,
 "nbformat_minor": 5
}
